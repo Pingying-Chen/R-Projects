{
  "cells": [
    {
      "cell_type": "markdown",
      "metadata": {
        "id": "view-in-github",
        "colab_type": "text"
      },
      "source": [
        "<a href=\"https://colab.research.google.com/github/Pingying-Chen/R-Samples/blob/main/Regressions.ipynb\" target=\"_parent\"><img src=\"https://colab.research.google.com/assets/colab-badge.svg\" alt=\"Open In Colab\"/></a>"
      ]
    },
    {
      "cell_type": "markdown",
      "id": "9c35be4b-51fc-45fa-953b-087604e32f01",
      "metadata": {
        "id": "9c35be4b-51fc-45fa-953b-087604e32f01"
      },
      "source": [
        "# Multiple Regression Analysis with R"
      ]
    },
    {
      "cell_type": "markdown",
      "id": "bd892f17-3152-4146-a39c-610234a9b3b3",
      "metadata": {
        "id": "bd892f17-3152-4146-a39c-610234a9b3b3"
      },
      "source": [
        "### Dataset\n",
        "Basic Computer Data (https://www.kaggle.com/datasets/kingburrito666/basic-computer-data-set)\n",
        "### Data Description\n",
        "This is a simple dataset for basic data analysis.  \n",
        "The Computers data set has 6259 observations with 10 variables. The variables are price (numeric), speed (numeric), hd (numeric), ram (numeric), screen (numeric), cd (categorical), multi (categorical), premium (categorical), ads (numeric), trend (numeric).  \n",
        "### Problem Description\n",
        "This notebook is a practice of using R to do different regressions to predict the price of the computer and find out what the best regression model is for this dataset."
      ]
    },
    {
      "cell_type": "markdown",
      "id": "23a5e51b-239b-4cb1-9758-3155c22ffbca",
      "metadata": {
        "id": "23a5e51b-239b-4cb1-9758-3155c22ffbca"
      },
      "source": [
        "## 1. Preparation"
      ]
    },
    {
      "cell_type": "code",
      "execution_count": null,
      "id": "dfc13a3c-c72e-4242-919e-df548dc3fb14",
      "metadata": {
        "id": "dfc13a3c-c72e-4242-919e-df548dc3fb14",
        "outputId": "fe96f26b-bd11-4cba-ca17-26f26759262f"
      },
      "outputs": [
        {
          "name": "stderr",
          "output_type": "stream",
          "text": [
            "Updating HTML index of packages in '.Library'\n",
            "\n",
            "Making 'packages.html' ...\n",
            " done\n",
            "\n",
            "Updating HTML index of packages in '.Library'\n",
            "\n",
            "Making 'packages.html' ...\n",
            " done\n",
            "\n",
            "Updating HTML index of packages in '.Library'\n",
            "\n",
            "Making 'packages.html' ...\n",
            " done\n",
            "\n",
            "also installing the dependencies ‘nloptr’, ‘RcppEigen’, ‘pbkrtest’, ‘lme4’\n",
            "\n",
            "\n",
            "Warning message in install.packages(\"car\"):\n",
            "“installation of package ‘nloptr’ had non-zero exit status”\n",
            "Warning message in install.packages(\"car\"):\n",
            "“installation of package ‘RcppEigen’ had non-zero exit status”\n",
            "Warning message in install.packages(\"car\"):\n",
            "“installation of package ‘lme4’ had non-zero exit status”\n",
            "Warning message in install.packages(\"car\"):\n",
            "“installation of package ‘pbkrtest’ had non-zero exit status”\n",
            "Warning message in install.packages(\"car\"):\n",
            "“installation of package ‘car’ had non-zero exit status”\n",
            "Updating HTML index of packages in '.Library'\n",
            "\n",
            "Making 'packages.html' ...\n",
            " done\n",
            "\n",
            "Updating HTML index of packages in '.Library'\n",
            "\n",
            "Making 'packages.html' ...\n",
            " done\n",
            "\n"
          ]
        }
      ],
      "source": [
        "# Install packages\n",
        "install.packages(\"corrplot\")\n",
        "install.packages(\"dplyr\")\n",
        "install.packages(\"caret\")\n",
        "install.packages(\"car\")\n",
        "install.packages(\"magrittr\")"
      ]
    },
    {
      "cell_type": "code",
      "execution_count": null,
      "id": "b9c88485-b1e2-407f-976c-5b5691198bf3",
      "metadata": {
        "id": "b9c88485-b1e2-407f-976c-5b5691198bf3",
        "outputId": "931fb4c1-2dad-4409-d62d-ef07ff6f9256"
      },
      "outputs": [
        {
          "name": "stderr",
          "output_type": "stream",
          "text": [
            "corrplot 0.92 loaded\n",
            "\n",
            "\n",
            "Attaching package: ‘dplyr’\n",
            "\n",
            "\n",
            "The following objects are masked from ‘package:stats’:\n",
            "\n",
            "    filter, lag\n",
            "\n",
            "\n",
            "The following objects are masked from ‘package:base’:\n",
            "\n",
            "    intersect, setdiff, setequal, union\n",
            "\n",
            "\n",
            "Loading required package: ggplot2\n",
            "\n",
            "Loading required package: lattice\n",
            "\n"
          ]
        },
        {
          "ename": "ERROR",
          "evalue": "Error in library(\"car\"): there is no package called ‘car’\n",
          "output_type": "error",
          "traceback": [
            "Error in library(\"car\"): there is no package called ‘car’\nTraceback:\n",
            "1. library(\"car\")"
          ]
        }
      ],
      "source": [
        "# Load packages\n",
        "library(\"corrplot\")\n",
        "library(\"dplyr\")\n",
        "library(\"caret\")\n",
        "library(\"car\")\n",
        "library(\"magrittr\")"
      ]
    },
    {
      "cell_type": "markdown",
      "id": "6a988300-0b65-4ee8-82b4-bb591355a8c1",
      "metadata": {
        "id": "6a988300-0b65-4ee8-82b4-bb591355a8c1"
      },
      "source": [
        "## 2. Load Data"
      ]
    },
    {
      "cell_type": "code",
      "execution_count": null,
      "id": "e71d6440-de78-4842-930a-f63da446f395",
      "metadata": {
        "id": "e71d6440-de78-4842-930a-f63da446f395"
      },
      "outputs": [],
      "source": [
        "computers <- read.csv(\"data/computers.csv\")"
      ]
    },
    {
      "cell_type": "code",
      "execution_count": null,
      "id": "ed494f87-cfcd-4574-9c71-50f8519a4c42",
      "metadata": {
        "id": "ed494f87-cfcd-4574-9c71-50f8519a4c42"
      },
      "outputs": [],
      "source": [
        "# Read first six rows\n",
        "head(computers)"
      ]
    },
    {
      "cell_type": "code",
      "execution_count": null,
      "id": "c80106a3-e53d-4fdf-88e3-caa3fc89aa05",
      "metadata": {
        "id": "c80106a3-e53d-4fdf-88e3-caa3fc89aa05"
      },
      "outputs": [],
      "source": [
        "# Remove first column\n",
        "computers <- computers[, -1]\n",
        "\n",
        "# Summary\n",
        "summary(computers)"
      ]
    },
    {
      "cell_type": "code",
      "execution_count": null,
      "id": "9726a0ad-92b7-4356-9f39-70a11d66f860",
      "metadata": {
        "id": "9726a0ad-92b7-4356-9f39-70a11d66f860"
      },
      "outputs": [],
      "source": [
        "# Turn characters to factors\n",
        "computers[sapply(computers, is.character)] <- lapply(computers[sapply(computers, is.character)], as.factor)\n",
        "\n",
        "str(computers)"
      ]
    },
    {
      "cell_type": "markdown",
      "id": "838f398c-b0cd-4a55-b89f-af135fbcd0e3",
      "metadata": {
        "id": "838f398c-b0cd-4a55-b89f-af135fbcd0e3"
      },
      "source": [
        "## 3. Exploratory Analysis"
      ]
    },
    {
      "cell_type": "markdown",
      "id": "219a9d80-8315-4826-8e42-9222b1898cf0",
      "metadata": {
        "id": "219a9d80-8315-4826-8e42-9222b1898cf0"
      },
      "source": [
        "### 3.1 Continuous values distribution"
      ]
    },
    {
      "cell_type": "code",
      "execution_count": null,
      "id": "51242dc2-0380-438d-a72c-1299671c79de",
      "metadata": {
        "id": "51242dc2-0380-438d-a72c-1299671c79de"
      },
      "outputs": [],
      "source": [
        "par(mfrow=c(3,2))\n",
        "hist(computers$price, main=\"Price Distribution\", xlab=\"Price\", col=\"skyblue\")\n",
        "hist(computers$speed, main=\"Speed Distribution\", xlab=\"Speed\", col=\"skyblue\")\n",
        "hist(computers$hd, main=\"HD Distribution\", xlab=\"HD\", col=\"skyblue\")\n",
        "hist(computers$ram, main=\"RAM Distribution\", xlab=\"RAM\", col=\"skyblue\")\n",
        "hist(computers$ads, main=\"Ads Distribution\", xlab=\"Ads\", col=\"skyblue\")\n",
        "hist(computers$trend, main=\"Trend Distribution\", xlab=\"Trend\", col=\"skyblue\")"
      ]
    },
    {
      "cell_type": "markdown",
      "id": "db94b823-2e7a-4e1d-9861-35e83be5742a",
      "metadata": {
        "id": "db94b823-2e7a-4e1d-9861-35e83be5742a"
      },
      "source": [
        "### 3.2 Categorical values"
      ]
    },
    {
      "cell_type": "code",
      "execution_count": null,
      "id": "8d9b1c73-534f-4312-93cd-e41f313468b1",
      "metadata": {
        "id": "8d9b1c73-534f-4312-93cd-e41f313468b1"
      },
      "outputs": [],
      "source": [
        "par(mfrow=c(1,3))\n",
        "barplot(table(computers$cd), main=\"CD Distribution\", ylab=\"Count\", col=\"lightgreen\")\n",
        "barplot(table(computers$multi), main=\"Multi Distribution\", ylab=\"Count\", col=\"lightgreen\")\n",
        "barplot(table(computers$premium), main=\"Premium Distribution\", ylab=\"Count\", col=\"lightgreen\")"
      ]
    },
    {
      "cell_type": "markdown",
      "id": "72959172-2106-48bd-a49e-891c941c85d7",
      "metadata": {
        "id": "72959172-2106-48bd-a49e-891c941c85d7"
      },
      "source": [
        "### 3.3 Continuous vs categorical"
      ]
    },
    {
      "cell_type": "code",
      "execution_count": null,
      "id": "b9bb02ab-ffb8-4ad8-befb-4af318db634c",
      "metadata": {
        "id": "b9bb02ab-ffb8-4ad8-befb-4af318db634c"
      },
      "outputs": [],
      "source": [
        "par(mfrow=c(1,3))\n",
        "boxplot(price ~ cd, data=computers, main=\"Price by cd\", xlab=\"cd\", ylab=\"Price\", col=\"violet\")\n",
        "boxplot(price ~ multi, data=computers, main=\"Price by multi\", xlab=\"multi\", ylab=\"Price\", col=\"violet\")\n",
        "boxplot(price ~ premium, data=computers, main=\"Price by Premium\", xlab=\"Premium\", ylab=\"Price\", col=\"violet\")"
      ]
    },
    {
      "cell_type": "markdown",
      "id": "eb83ae60-15dd-40dc-91dd-7bb9c4cd4b78",
      "metadata": {
        "id": "eb83ae60-15dd-40dc-91dd-7bb9c4cd4b78"
      },
      "source": [
        "### 3.4 Correlation plot"
      ]
    },
    {
      "cell_type": "code",
      "execution_count": null,
      "id": "404c11a3-810a-402d-95b6-4c13662c9e7a",
      "metadata": {
        "id": "404c11a3-810a-402d-95b6-4c13662c9e7a"
      },
      "outputs": [],
      "source": [
        "par(mfrow=c(1,1))\n",
        "(cor_matrix <- cor(computers[, c(\"price\", \"speed\", \"hd\", \"ram\", \"screen\", \"ads\", \"trend\")]))\n",
        "corrplot(cor_matrix, method=\"circle\")"
      ]
    },
    {
      "cell_type": "markdown",
      "id": "37041669-7571-4a14-8b48-70fa143d7381",
      "metadata": {
        "id": "37041669-7571-4a14-8b48-70fa143d7381"
      },
      "source": [
        "## 4. Basic Multiple Regression"
      ]
    },
    {
      "cell_type": "markdown",
      "id": "56424383-cb9e-4696-a7fc-54166a0f9123",
      "metadata": {
        "id": "56424383-cb9e-4696-a7fc-54166a0f9123"
      },
      "source": [
        "### 4.1 Training test set split and model create"
      ]
    },
    {
      "cell_type": "code",
      "execution_count": null,
      "id": "8017e0c4-cfe2-4fea-a15b-6a8c9aa66031",
      "metadata": {
        "id": "8017e0c4-cfe2-4fea-a15b-6a8c9aa66031"
      },
      "outputs": [],
      "source": [
        "# Traning & test set split\n",
        "set.seed(123)\n",
        "training.samples1 <- computers$price %>%\n",
        "  createDataPartition(p = 0.8, list = FALSE)\n",
        "c_train1  <- computers[training.samples1, ]\n",
        "c_test1 <- computers[-training.samples1, ]\n",
        "\n",
        "# Create Model\n",
        "lm1 <- lm(price ~ ., data = c_train1)\n",
        "summary(lm1)"
      ]
    },
    {
      "cell_type": "markdown",
      "id": "124cba62-5c76-4939-b048-d94225dc8424",
      "metadata": {
        "id": "124cba62-5c76-4939-b048-d94225dc8424"
      },
      "source": [
        "#### Interpretation:\n",
        "- The model is statistically significant with a very low p-value (< 2.2e-16), which means the predictors, as a set, significantly relate to the response variable price.\n",
        "- The p-values of all coefficients are smaller than 0.001, which means the coefficients of the intercept and all predictive factors are statistically significant.\n",
        "- The model can be written as: price = 265.25463 + 9.23583 * speed + 0.77610 * hd + 48.47308 * ram + 125.20002 * screen + 56.52204 * cdyes + 98.17646 * multiyes − 499.50670 * premiumyes + 0.68946 * ads − 51.50423 * trend."
      ]
    },
    {
      "cell_type": "markdown",
      "id": "0db33c11-f04b-4226-8e1a-19963610c6ca",
      "metadata": {
        "id": "0db33c11-f04b-4226-8e1a-19963610c6ca"
      },
      "source": [
        "### 4.2 Diagnostic plots"
      ]
    },
    {
      "cell_type": "code",
      "execution_count": null,
      "id": "a1539eda-e8a3-4b43-939a-39fe7e6cf0ea",
      "metadata": {
        "id": "a1539eda-e8a3-4b43-939a-39fe7e6cf0ea"
      },
      "outputs": [],
      "source": [
        "par(mfrow=c(2,2))\n",
        "plot(lm1)"
      ]
    },
    {
      "cell_type": "markdown",
      "id": "cefdd2ca-048b-478a-b565-e9205e5f6597",
      "metadata": {
        "id": "cefdd2ca-048b-478a-b565-e9205e5f6597"
      },
      "source": [
        "#### Interpretation:\n",
        "- **Residuals vs. Fitted:** There’s a slight non-linearity. The non-constant variance indicates potential\n",
        "heteroscedasticity.\n",
        "- **Q-Q Plot:** The residuals seem to deviate slightly from the normal distribution, especially in the tails.\n",
        "- **Scale-Location:** Similar to the Residuals vs. Fitted plot, suggesting potential heteroscedasticity.\n",
        "- **Residuals vs. Leverage:** Some points have high leverage, but they don’t appear to be highly influential\n",
        "in terms of Cook’s distance.\n",
        "  \n",
        "The diagnostic plots suggest some potential violations of regression assumptions, especially regarding linearity\n",
        "and homoscedasticity. Addressing these issues may further improve the model."
      ]
    },
    {
      "cell_type": "markdown",
      "id": "dec53e00-dfbb-4d2d-9d67-d5a531353cc7",
      "metadata": {
        "id": "dec53e00-dfbb-4d2d-9d67-d5a531353cc7"
      },
      "source": [
        "### 4.3 Model Performance"
      ]
    },
    {
      "cell_type": "code",
      "execution_count": null,
      "id": "f6d3cb61-978a-4e50-9b64-268648237bfa",
      "metadata": {
        "id": "f6d3cb61-978a-4e50-9b64-268648237bfa"
      },
      "outputs": [],
      "source": [
        "# Make Predictions\n",
        "prediction1 <- lm1 %>% predict(c_test1)\n",
        "\n",
        "# Model Performance\n",
        "data.frame(RMSE = RMSE(prediction1, c_test1$price),\n",
        "           R2 = R2(prediction1, c_test1$price))"
      ]
    },
    {
      "cell_type": "markdown",
      "id": "2488d36a-e7e1-4cf5-9963-0b6ec56d90c3",
      "metadata": {
        "id": "2488d36a-e7e1-4cf5-9963-0b6ec56d90c3"
      },
      "source": [
        "#### Interpretation:\n",
        "- **R-squared:** The model explains approximately 77.26% of the variance in the price. This suggests a reasonably good fit.\n",
        "- **RMSE:** The root mean square error is 267.75, indicating on average, the model’s predictions are approximately 267.75 units away from the actual values."
      ]
    },
    {
      "cell_type": "markdown",
      "id": "7862ac31-5a01-4114-b900-244c78a6e127",
      "metadata": {
        "id": "7862ac31-5a01-4114-b900-244c78a6e127"
      },
      "source": [
        "## 5. Multiple Regression with Interactions"
      ]
    },
    {
      "cell_type": "markdown",
      "id": "761c3fd0-652f-4ae6-99e2-955edcdc90f4",
      "metadata": {
        "id": "761c3fd0-652f-4ae6-99e2-955edcdc90f4"
      },
      "source": [
        "### 5.1 Training test set split and model create"
      ]
    },
    {
      "cell_type": "code",
      "execution_count": null,
      "id": "316f9328-0d2a-4370-8773-51b2fa3559cd",
      "metadata": {
        "id": "316f9328-0d2a-4370-8773-51b2fa3559cd"
      },
      "outputs": [],
      "source": [
        "# Check correlations\n",
        "(cor_matrix <- cor(computers[, c(\"speed\", \"hd\", \"ram\", \"screen\", \"ads\", \"trend\")]))"
      ]
    },
    {
      "cell_type": "code",
      "execution_count": null,
      "id": "7a5f5fb7-5f6d-422d-9809-7b50cabaaf92",
      "metadata": {
        "id": "7a5f5fb7-5f6d-422d-9809-7b50cabaaf92"
      },
      "outputs": [],
      "source": [
        "# Traning & test set split\n",
        "set.seed(123)\n",
        "training.samples2 <- computers$price %>%\n",
        "  createDataPartition(p = 0.8, list = FALSE)\n",
        "c_train2  <- computers[training.samples2, ]\n",
        "c_test2 <- computers[-training.samples2, ]\n",
        "\n",
        "# Create Model\n",
        "lm2 <- lm(price ~ speed * hd * ram + screen + cd + multi + premium + ads + trend, data = c_train2)\n",
        "summary(lm2)"
      ]
    },
    {
      "cell_type": "markdown",
      "id": "fde53c78-a3af-4129-ab2c-70035ab62f8f",
      "metadata": {
        "id": "fde53c78-a3af-4129-ab2c-70035ab62f8f"
      },
      "source": [
        "#### Interpretation:\n",
        "- The model is statistically significant with a very low p-value (< 2.2e-16), which means the predictors, as a set, significantly relate to the response variable price.\n",
        "- The p-values of all coefficients except for speed:ram are smaller than 0.001, which means the coefficients of the intercept and all predictive factors are statistically significant. The p-value of speed:ram coefficient is between 0.05 to 0.1, suggesting it not as significant as others.\n",
        "- The model can be written as: price = −72.70 + 16.53 * speed + 2.228 * hd + 70.23 * ram + 120.4 * screen + 44.26 * cdyes + 102.5 * multiyes − 549.8 * premiumyes + 0.4382 * ads − 51.09 * trend − 0.02029 * speed:hd − 0.1389 * speed:ram − 0.05573 * hd:ram + 0.0005235 * speed:hd:ram"
      ]
    },
    {
      "cell_type": "markdown",
      "id": "511696e7-5de2-45d6-bc2f-b6ed86511084",
      "metadata": {
        "id": "511696e7-5de2-45d6-bc2f-b6ed86511084"
      },
      "source": [
        "### 5.2 Diagnostic plots"
      ]
    },
    {
      "cell_type": "code",
      "execution_count": null,
      "id": "d3a482a6-fc38-4cbd-988f-dc13ce9d5060",
      "metadata": {
        "id": "d3a482a6-fc38-4cbd-988f-dc13ce9d5060"
      },
      "outputs": [],
      "source": [
        "par(mfrow=c(2,2))\n",
        "plot(lm2)"
      ]
    },
    {
      "cell_type": "markdown",
      "id": "4553cfe9-7c54-4faf-b8e8-8431f5765556",
      "metadata": {
        "id": "4553cfe9-7c54-4faf-b8e8-8431f5765556"
      },
      "source": [
        "#### Interpretation:\n",
        "- **Residuals vs. Fitted:** Slight U-shape suggests potential non-linearity in the data.\n",
        "- **Q-Q Plot:** The points closely follow the line, indicating that the residuals are approximately normally distributed.\n",
        "- **Scale-Location:** The spread looks reasonably constant, suggesting homoscedasticity (equal variances) of the residuals.\n",
        "- **Residuals vs. Leverage:** No observation has high leverage and high residual simultaneously. Though some points have high Cook’s distance, suggesting they might be influential.\n",
        "  \n",
        "In summary, the model fits reasonably well, but there’s a hint of non-linearity. There are some potential influential points, but they don’t seem to unduly influence the model’s fit. Further investigation might be needed to handle the non-linearity and influential points.\n",
        "\n"
      ]
    },
    {
      "cell_type": "markdown",
      "id": "35d2be8a-8bf6-4fdb-9cc1-e5d3af0f4cd0",
      "metadata": {
        "id": "35d2be8a-8bf6-4fdb-9cc1-e5d3af0f4cd0"
      },
      "source": [
        "### 5.3 Model Performance"
      ]
    },
    {
      "cell_type": "code",
      "execution_count": null,
      "id": "afc04d8f-9849-47a6-ac89-face987ee20a",
      "metadata": {
        "id": "afc04d8f-9849-47a6-ac89-face987ee20a"
      },
      "outputs": [],
      "source": [
        "# Make Predictions\n",
        "prediction2 <- lm2 %>% predict(c_test2)\n",
        "\n",
        "# Model Performance\n",
        "data.frame(RMSE = RMSE(prediction2, c_test2$price),\n",
        "           R2 = R2(prediction2, c_test2$price))"
      ]
    },
    {
      "cell_type": "markdown",
      "id": "7182f1f5-884c-4722-bd6d-f0058eda367a",
      "metadata": {
        "id": "7182f1f5-884c-4722-bd6d-f0058eda367a"
      },
      "source": [
        "#### Interpretation:\n",
        "- **R-squared:** The model explains approximately 81.37% of the variance in the price. This suggests a reasonably good fit.\n",
        "- **RMSE:** The root mean square error is 250.41, indicating on average, the model’s predictions are approximately 250.41 units away from the actual values."
      ]
    },
    {
      "cell_type": "markdown",
      "id": "ab732736-291f-49ca-93a4-6280afdfee85",
      "metadata": {
        "id": "ab732736-291f-49ca-93a4-6280afdfee85"
      },
      "source": [
        "## 6. Multiple Regression with Multicollinearity"
      ]
    },
    {
      "cell_type": "markdown",
      "id": "0cb5d969-4ef9-490c-8c5e-55d96db7d8c0",
      "metadata": {
        "id": "0cb5d969-4ef9-490c-8c5e-55d96db7d8c0"
      },
      "source": [
        "### 6.1 Training test set split and model create"
      ]
    },
    {
      "cell_type": "code",
      "execution_count": null,
      "id": "b8dd2e02-1023-42fd-a81d-ae7448e49ba4",
      "metadata": {
        "id": "b8dd2e02-1023-42fd-a81d-ae7448e49ba4"
      },
      "outputs": [],
      "source": [
        "vif(lm1)"
      ]
    },
    {
      "cell_type": "code",
      "execution_count": null,
      "id": "63bd7496-9d35-4dd9-b028-a61d1ec91902",
      "metadata": {
        "id": "63bd7496-9d35-4dd9-b028-a61d1ec91902"
      },
      "outputs": [],
      "source": [
        "# Traning & test set split\n",
        "set.seed(123)\n",
        "training.samples3 <- computers$price %>%\n",
        "  createDataPartition(p = 0.8, list = FALSE)\n",
        "c_train3  <- computers[training.samples3, ]\n",
        "c_test3 <- computers[-training.samples3, ]\n",
        "\n",
        "# Create Model\n",
        "lm3 <- lm(price ~. -hd, data = c_train3)\n",
        "summary(lm3)"
      ]
    },
    {
      "cell_type": "markdown",
      "id": "989eddd3-423e-49cc-96f0-bff17fa57d90",
      "metadata": {
        "id": "989eddd3-423e-49cc-96f0-bff17fa57d90"
      },
      "source": [
        "#### Interpretation:\n",
        "- The model is statistically significant with a very low p-value (< 2.2e-16), which means the predictors, as a set, significantly relate to the response variable price.\n",
        "- The p-values of all coefficients except for the intercept are smaller than 0.001, which means the coefficients of the intercept and all predictive factors are statistically significant. The p-value of the intercept coefficient is between 0.001 to 0.01, suggesting it not as significant as others.\n",
        "- The model can be written as: price = 224.18378 + 9.79021 ∗ speed + 70.55952 ∗ ram + 127.56138 ∗ screen + 88.26443 ∗ cdyes + 71.48390 ∗ multiyes − 474.02904 ∗ premiumyes + 0.47647 ∗ ads − 43.25888 ∗ trend."
      ]
    },
    {
      "cell_type": "markdown",
      "id": "865341f6-cf6a-4a78-98fe-6da4d651dfce",
      "metadata": {
        "id": "865341f6-cf6a-4a78-98fe-6da4d651dfce"
      },
      "source": [
        "### 6.2 Diagnostic plots"
      ]
    },
    {
      "cell_type": "code",
      "execution_count": null,
      "id": "0a9a307d-f0c4-42b5-ae4a-296636ef1e66",
      "metadata": {
        "id": "0a9a307d-f0c4-42b5-ae4a-296636ef1e66"
      },
      "outputs": [],
      "source": [
        "par(mfrow=c(2,2))\n",
        "plot(lm3)"
      ]
    },
    {
      "cell_type": "markdown",
      "id": "28f9bcc6-44f0-4e15-a66d-8008f8be604c",
      "metadata": {
        "id": "28f9bcc6-44f0-4e15-a66d-8008f8be604c"
      },
      "source": [
        "#### Interpretation:\n",
        "- **Residuals vs. Fitted:** The plot shows a somewhat even distribution of residuals around the red line, but with a noticeable curve. This suggests potential non-linearity in the data.\n",
        "- **Q-Q Plot:** The points closely follow the straight line, suggesting the residuals are nearly normally distributed. However, there are deviations at the tails, implying potential outliers.\n",
        "- **Scale-Location:** The spread of residuals is mostly consistent across the range of fitted values, although there’s a slight fan shape. This suggests that the assumption of homoscedasticity (equal variance) is mostly met, with minor deviations.\n",
        "- **Residuals vs. Leverage:** Most data points have low leverage. The red line denotes Cook’s distance, and few points lie above it, which might be influential points worth further investigation.\n",
        "Overall, the model seems to fit the data decently but might benefit from further examination of influential points and potential non-linearities."
      ]
    },
    {
      "cell_type": "markdown",
      "id": "5d9792f5-2261-4928-96c5-e2770ef97c69",
      "metadata": {
        "id": "5d9792f5-2261-4928-96c5-e2770ef97c69"
      },
      "source": [
        "### 6.3 Model Performance"
      ]
    },
    {
      "cell_type": "code",
      "execution_count": null,
      "id": "cffac752-9b88-49fa-84df-34a209da85a9",
      "metadata": {
        "id": "cffac752-9b88-49fa-84df-34a209da85a9"
      },
      "outputs": [],
      "source": [
        "# Make Predictions\n",
        "prediction3 <- lm3 %>% predict(c_test3)\n",
        "\n",
        "# Model Performance\n",
        "data.frame(RMSE = RMSE(prediction3, c_test3$price),\n",
        "           R2 = R2(prediction3, c_test3$price))"
      ]
    },
    {
      "cell_type": "markdown",
      "id": "fbedbed7-5dae-44e5-a7f0-fb41cebfe4e9",
      "metadata": {
        "id": "fbedbed7-5dae-44e5-a7f0-fb41cebfe4e9"
      },
      "source": [
        "## 7. Stepwise Regression"
      ]
    },
    {
      "cell_type": "markdown",
      "id": "ac3b8d2a-c2cc-462d-84ad-254a6175585a",
      "metadata": {
        "id": "ac3b8d2a-c2cc-462d-84ad-254a6175585a"
      },
      "source": [
        "### 7.1 Training test set split and model create"
      ]
    },
    {
      "cell_type": "code",
      "execution_count": null,
      "id": "10f12446-6245-4306-998e-4c023a33c941",
      "metadata": {
        "id": "10f12446-6245-4306-998e-4c023a33c941"
      },
      "outputs": [],
      "source": [
        "# Traning & test set split\n",
        "set.seed(123)\n",
        "training.samples4 <- computers$price %>%\n",
        "  createDataPartition(p = 0.8, list = FALSE)\n",
        "c_train4  <- computers[training.samples4, ]\n",
        "c_test4 <- computers[-training.samples4, ]\n",
        "\n",
        "# Define intercept-only model\n",
        "intercept_only <- lm(price ~ 1, data = c_train4)\n",
        "\n",
        "# Define model with all predictors\n",
        "all <- lm(price ~ ., data = c_train4)\n",
        "\n",
        "# Create model\n",
        "lm4 <- step(intercept_only, direction = 'both', scope=formula(all), trace=0)\n",
        "summary(lm4)"
      ]
    },
    {
      "cell_type": "code",
      "execution_count": null,
      "id": "36dac4c5-7fb6-4fc2-89e4-088c9283b2e0",
      "metadata": {
        "id": "36dac4c5-7fb6-4fc2-89e4-088c9283b2e0"
      },
      "outputs": [],
      "source": [
        "lm4$anova"
      ]
    },
    {
      "cell_type": "markdown",
      "id": "2e419f1c-877a-45b2-9d48-094d12c06e2b",
      "metadata": {
        "id": "2e419f1c-877a-45b2-9d48-094d12c06e2b"
      },
      "source": [
        "#### Interpretation:\n",
        "The model is basically the same as the first model.  \n",
        "The slight differences of the coefficients between these two models are caused by different training test set split."
      ]
    },
    {
      "cell_type": "markdown",
      "id": "b4ce87e8-7edd-42ac-8640-797ee1ac0fe6",
      "metadata": {
        "id": "b4ce87e8-7edd-42ac-8640-797ee1ac0fe6"
      },
      "source": [
        "### 7.2 Diagnostic plots"
      ]
    },
    {
      "cell_type": "code",
      "execution_count": null,
      "id": "c507e848-2ea1-4adb-9b56-fb4f8874d8ad",
      "metadata": {
        "id": "c507e848-2ea1-4adb-9b56-fb4f8874d8ad"
      },
      "outputs": [],
      "source": [
        "# Diagnostic plots\n",
        "par(mfrow=c(2,2))\n",
        "plot(lm4)"
      ]
    },
    {
      "cell_type": "markdown",
      "id": "f84e57b2-df7b-4f35-82b9-0e7bc21bcef7",
      "metadata": {
        "id": "f84e57b2-df7b-4f35-82b9-0e7bc21bcef7"
      },
      "source": [
        "### 7.3 Model Performance"
      ]
    },
    {
      "cell_type": "code",
      "execution_count": null,
      "id": "2c6ffa17-508c-4ccb-816f-92123a9a71a4",
      "metadata": {
        "id": "2c6ffa17-508c-4ccb-816f-92123a9a71a4"
      },
      "outputs": [],
      "source": [
        "# Make Predictions\n",
        "prediction4 <- lm4 %>% predict(c_test4)\n",
        "\n",
        "# Model Performance\n",
        "data.frame(RMSE = RMSE(prediction4, c_test4$price),\n",
        "           R2 = R2(prediction4, c_test4$price))"
      ]
    },
    {
      "cell_type": "markdown",
      "id": "a650f584-abc7-42a6-b185-fa0db10ade4a",
      "metadata": {
        "id": "a650f584-abc7-42a6-b185-fa0db10ade4a"
      },
      "source": [
        "## 8. Model Comparison"
      ]
    },
    {
      "cell_type": "markdown",
      "id": "83df79b3-1ffd-42ab-9c51-872b70772705",
      "metadata": {
        "id": "83df79b3-1ffd-42ab-9c51-872b70772705"
      },
      "source": [
        "The second regression, **the multiple regression with interaction** should be the **best** model considering the high adjusted R-squared value and lower RMSE.\n",
        "However, we should also consider the non-linearity in this model. Further investigation might be needed."
      ]
    },
    {
      "cell_type": "code",
      "execution_count": null,
      "id": "38b8b50d-6161-4448-bb21-e620435f5f88",
      "metadata": {
        "id": "38b8b50d-6161-4448-bb21-e620435f5f88"
      },
      "outputs": [],
      "source": []
    }
  ],
  "metadata": {
    "kernelspec": {
      "display_name": "R",
      "language": "R",
      "name": "ir"
    },
    "language_info": {
      "codemirror_mode": "r",
      "file_extension": ".r",
      "mimetype": "text/x-r-source",
      "name": "R",
      "pygments_lexer": "r",
      "version": "4.3.1"
    },
    "colab": {
      "provenance": [],
      "include_colab_link": true
    }
  },
  "nbformat": 4,
  "nbformat_minor": 5
}